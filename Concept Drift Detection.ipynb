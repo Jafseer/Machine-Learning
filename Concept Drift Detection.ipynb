{
 "cells": [
  {
   "cell_type": "markdown",
   "metadata": {},
   "source": [
    "## Concept Drift Detection"
   ]
  },
  {
   "cell_type": "markdown",
   "metadata": {},
   "source": [
    "#### ADWIN (ADaptive WINdowing)\n",
    "It is an adaptive sliding window algorithm for detecting change, and keeping updated statistics about a data stream."
   ]
  },
  {
   "cell_type": "code",
   "execution_count": 6,
   "metadata": {},
   "outputs": [],
   "source": [
    "%matplotlib notebook\n",
    "from skmultiflow.data import FileStream\n",
    "stream = FileStream(\"D:\\work\\Concept drift\\weather.csv\")"
   ]
  },
  {
   "cell_type": "code",
   "execution_count": 4,
   "metadata": {},
   "outputs": [
    {
     "data": {
      "text/plain": [
       "FileStream(allow_nan=False, cat_features=None,\n",
       "           filepath='D:/Streaming data '\n",
       "                    'set/streaming-datasets-master/weather.csv',\n",
       "           n_targets=1, target_idx=-1)"
      ]
     },
     "execution_count": 4,
     "metadata": {},
     "output_type": "execute_result"
    }
   ],
   "source": [
    "stream"
   ]
  },
  {
   "cell_type": "code",
   "execution_count": null,
   "metadata": {},
   "outputs": [],
   "source": [
    "# Imports\n",
    "import numpy as np\n",
    "from skmultiflow.drift_detection.adwin import ADWIN\n",
    "adwin = ADWIN()\n",
    "# Simulating a data stream as a normal distribution of 1's and 0's\n",
    "data_stream = np.random.randint(2, size=2000)\n",
    "# Changing the data concept from index 999 to 2000\n",
    "for i in range(999,1500):\n",
    "    data_stream[i] = np.random.randint(4, high=8)\n",
    "for i in range(1501, 2000):\n",
    "    data_stream[i] = np.random.randint(10, high=20)\n",
    "# Adding stream elements to ADWIN and verifying if drift occurred\n",
    "for i in range(2000):\n",
    "    adwin.add_element(data_stream[i])\n",
    "    if adwin.detected_change():\n",
    "        print('Change detected in data: ' + str(data_stream[i]) + ' - at index: ' + str(i))"
   ]
  },
  {
   "cell_type": "code",
   "execution_count": 2,
   "metadata": {},
   "outputs": [
    {
     "data": {
      "text/plain": [
       "\"from skmultiflow.drift_detection.adwin import ADWIN\\nadwin = ADWIN()\\n\\nfor i in range(2000):\\n    adwin.add_element(stream[i])\\n    if adwin.detected_change():\\n        print('Change detected in data: ' + str(data_stream[i]) + ' - at index: ' + str(i))\""
      ]
     },
     "execution_count": 2,
     "metadata": {},
     "output_type": "execute_result"
    }
   ],
   "source": [
    "from skmultiflow.drift_detection.adwin import ADWIN\n",
    "adwin = ADWIN()\n",
    "\n",
    "for i in range(2000):\n",
    "    adwin.add_element(stream[i])\n",
    "    if adwin.detected_change():\n",
    "        print('Change detected in data: ' + str(data_stream[i]) + ' - at index: ' + str(i))"
   ]
  },
  {
   "cell_type": "code",
   "execution_count": null,
   "metadata": {},
   "outputs": [],
   "source": []
  }
 ],
 "metadata": {
  "kernelspec": {
   "display_name": "Python 3",
   "language": "python",
   "name": "python3"
  },
  "language_info": {
   "codemirror_mode": {
    "name": "ipython",
    "version": 3
   },
   "file_extension": ".py",
   "mimetype": "text/x-python",
   "name": "python",
   "nbconvert_exporter": "python",
   "pygments_lexer": "ipython3",
   "version": "3.7.6"
  }
 },
 "nbformat": 4,
 "nbformat_minor": 4
}
